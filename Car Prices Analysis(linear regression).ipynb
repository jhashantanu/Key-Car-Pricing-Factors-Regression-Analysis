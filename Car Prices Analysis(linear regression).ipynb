{
 "cells": [
  {
   "cell_type": "markdown",
   "metadata": {
    "colab_type": "text",
    "id": "cFboApQTKcvP"
   },
   "source": [
    "Initially importing all necessary libraries that will be used in the code. Consequentially loading the data given into a dataframe and proceeding with the solution."
   ]
  },
  {
   "cell_type": "code",
   "execution_count": null,
   "metadata": {
    "colab": {},
    "colab_type": "code",
    "id": "FCLWh2wxoeHR"
   },
   "outputs": [],
   "source": [
    "import pandas as pd\n",
    "import numpy as np"
   ]
  },
  {
   "cell_type": "code",
   "execution_count": null,
   "metadata": {
    "colab": {},
    "colab_type": "code",
    "id": "Ket3iYuKoeHX"
   },
   "outputs": [],
   "source": [
    "import statsmodels.api as sm\n",
    "import sklearn\n",
    "import matplotlib.pyplot as plt\n",
    "import seaborn as sns\n",
    "%matplotlib inline"
   ]
  },
  {
   "cell_type": "code",
   "execution_count": null,
   "metadata": {
    "colab": {},
    "colab_type": "code",
    "id": "KpLYWQ6vzU6V"
   },
   "outputs": [],
   "source": [
    "from statsmodels.stats.outliers_influence import variance_inflation_factor"
   ]
  },
  {
   "cell_type": "code",
   "execution_count": null,
   "metadata": {
    "colab": {},
    "colab_type": "code",
    "id": "XbxEa_5tc5Dz"
   },
   "outputs": [],
   "source": [
    "import warnings\n",
    "warnings.filterwarnings('ignore')"
   ]
  },
  {
   "cell_type": "code",
   "execution_count": null,
   "metadata": {
    "colab": {},
    "colab_type": "code",
    "id": "HFN9ysAec5Eo"
   },
   "outputs": [],
   "source": [
    "data = pd.read_csv(\"c:/users/Asus/Downloads/CarPrice_Assignment.csv\")"
   ]
  },
  {
   "cell_type": "code",
   "execution_count": null,
   "metadata": {
    "colab": {
     "base_uri": "https://localhost:8080/",
     "height": 266
    },
    "colab_type": "code",
    "id": "I5XYc4W7c5E7",
    "outputId": "aee05737-fef5-4e80-e927-6787b4a81b39"
   },
   "outputs": [],
   "source": [
    "data.head()"
   ]
  },
  {
   "cell_type": "code",
   "execution_count": null,
   "metadata": {
    "colab": {
     "base_uri": "https://localhost:8080/",
     "height": 571
    },
    "colab_type": "code",
    "id": "VWz1zTv7c5Gk",
    "outputId": "5398979e-fe65-4e00-d514-574d25838cc3"
   },
   "outputs": [],
   "source": [
    "data.info()"
   ]
  },
  {
   "cell_type": "markdown",
   "metadata": {
    "colab_type": "text",
    "id": "kjCVa9lsLOOU"
   },
   "source": [
    "## We can see from the above output that there is no NULL value in any of the given tabular values."
   ]
  },
  {
   "cell_type": "code",
   "execution_count": null,
   "metadata": {
    "colab": {
     "base_uri": "https://localhost:8080/",
     "height": 304
    },
    "colab_type": "code",
    "id": "BDapwuLfc5Gp",
    "outputId": "3ccd4e68-02e8-4a7d-9fd7-5b89ef9ff3ce",
    "scrolled": true
   },
   "outputs": [],
   "source": [
    "# to understand the variations in the data\n",
    "\n",
    "data.describe()"
   ]
  },
  {
   "cell_type": "code",
   "execution_count": null,
   "metadata": {
    "colab": {},
    "colab_type": "code",
    "id": "spw_Jk5Fc5G4"
   },
   "outputs": [],
   "source": [
    "# Replacing the name of the \"car + model\" with the name of the \"company of the car\"\n",
    "\n",
    "temp = data['CarName'].str.split(\" \", n=2, expand = True)\n",
    "data['CarName'] = temp[0]"
   ]
  },
  {
   "cell_type": "code",
   "execution_count": null,
   "metadata": {
    "colab": {
     "base_uri": "https://localhost:8080/",
     "height": 34
    },
    "colab_type": "code",
    "id": "-c5kocl6PRag",
    "outputId": "651daf58-e48a-48ba-d84c-df0a2cb9070f"
   },
   "outputs": [],
   "source": [
    "# lets check if each car_ID is unique\n",
    "\n",
    "boolean = data[\"car_ID\"].duplicated().any()\n",
    "boolean"
   ]
  },
  {
   "cell_type": "code",
   "execution_count": null,
   "metadata": {
    "colab": {},
    "colab_type": "code",
    "id": "6F7a3hAVc5HQ"
   },
   "outputs": [],
   "source": [
    "# As there is no duplicated value in the car_ID, we can make it the index of the dataframe\n",
    "# This also clarifies that there is no duplicated row value i.e no repitition of data\n",
    "\n",
    "data = data.set_index(\"car_ID\")"
   ]
  },
  {
   "cell_type": "code",
   "execution_count": null,
   "metadata": {
    "colab": {
     "base_uri": "https://localhost:8080/",
     "height": 437
    },
    "colab_type": "code",
    "id": "ThkEYeIeNKEe",
    "outputId": "d596bef2-00f5-47a5-a54d-20a188010a90"
   },
   "outputs": [],
   "source": [
    "# Lets check the datatype of all the elements of each column\n",
    "\n",
    "for i in range(len(list(data.columns))):\n",
    "  print(data.columns[i],type(data.iloc[0,i]),data.iloc[0,i])"
   ]
  },
  {
   "cell_type": "code",
   "execution_count": null,
   "metadata": {
    "colab": {
     "base_uri": "https://localhost:8080/",
     "height": 50
    },
    "colab_type": "code",
    "id": "SgbmlNEkdA-C",
    "outputId": "acdd2476-747d-40ba-babc-2485067d6129"
   },
   "outputs": [],
   "source": [
    "print(data[\"cylindernumber\"].unique())\n",
    "print(data[\"doornumber\"].unique())"
   ]
  },
  {
   "cell_type": "code",
   "execution_count": null,
   "metadata": {
    "colab": {},
    "colab_type": "code",
    "id": "PYXPx2p2c5HV"
   },
   "outputs": [],
   "source": [
    "# We can see that doornumber and cylindernumber are two of those features which are actually numerical but are written down as strings\n",
    "# Hence we convert those into numerals \n",
    "\n",
    "\n",
    "var_list =  ['doornumber', 'cylindernumber']\n",
    "\n",
    "def str_to_num(x):\n",
    "    if x.lower().strip()==\"one\":\n",
    "        return 1\n",
    "    elif x.lower().strip()==\"two\":\n",
    "        return 2\n",
    "    elif x.lower().strip()==\"three\":\n",
    "        return 3\n",
    "    elif x.lower().strip()==\"four\":\n",
    "        return 4\n",
    "    elif x.lower().strip()==\"five\":\n",
    "        return 5\n",
    "    elif x.lower().strip()==\"six\":\n",
    "        return 6\n",
    "    elif x.lower().strip()==\"seven\":\n",
    "        return 7\n",
    "    elif x.lower().strip()==\"eight\":\n",
    "        return 8\n",
    "    elif x.lower().strip()==\"nine\":\n",
    "        return 9\n",
    "    elif x.lower().strip()==\"ten\":\n",
    "        return 10\n",
    "    elif x.lower().strip()==\"eleven\":\n",
    "        return 11\n",
    "    elif x.lower().strip()==\"twelve\":\n",
    "        return 12\n",
    "    else:\n",
    "        return 13\n",
    "\n",
    "for var_col in var_list:\n",
    "  data[var_col] = data[var_col].apply(lambda x: str_to_num(x))"
   ]
  },
  {
   "cell_type": "code",
   "execution_count": null,
   "metadata": {
    "colab": {
     "base_uri": "https://localhost:8080/",
     "height": 454
    },
    "colab_type": "code",
    "id": "m5M0b9fqQNqH",
    "outputId": "13fba21d-1658-44d6-bbd8-b7745261366d"
   },
   "outputs": [],
   "source": [
    "# This shows how many unique values are there in each column\n",
    "\n",
    "print(data.nunique())"
   ]
  },
  {
   "cell_type": "code",
   "execution_count": null,
   "metadata": {
    "colab": {
     "base_uri": "https://localhost:8080/",
     "height": 101
    },
    "colab_type": "code",
    "id": "0G3PblOLSB8w",
    "outputId": "7313054f-2ea4-41e3-a957-c34908c9e7f3"
   },
   "outputs": [],
   "source": [
    "# The output of this cell will be all the columns that are binary in nature, i.e two class columns\n",
    "# Output will also show what are the values these columns hold\n",
    "\n",
    "binary_columns = data.nunique() == 2\n",
    "binary_columns = binary_columns[binary_columns.values]\n",
    "print(binary_columns.index)\n",
    "for col in binary_columns.index:\n",
    "  print(data[col].unique())"
   ]
  },
  {
   "cell_type": "code",
   "execution_count": null,
   "metadata": {
    "colab": {},
    "colab_type": "code",
    "id": "S0ygKBaDc5HY"
   },
   "outputs": [],
   "source": [
    "# As \"aspiration\",\"enginelocation\",\"fueltype\" are the only remaining type of variable with two unique values and the are strings\n",
    "# hence we replace them with 0 and 1\n",
    "\n",
    "data['aspiration'] = data['aspiration'].apply(lambda x: 1 if x == 'turbo' else 0)\n",
    "data['enginelocation'] = data['enginelocation'].apply(lambda x: 1 if x == 'rear' else 0)\n",
    "data['fueltype'] = data['fueltype'].apply(lambda x: 0 if x == 'diesel' else 1)"
   ]
  },
  {
   "cell_type": "code",
   "execution_count": null,
   "metadata": {
    "colab": {},
    "colab_type": "code",
    "id": "6W1_P6Y6c5Hi"
   },
   "outputs": [],
   "source": [
    "# Lets clean the values of the CarName column and convert to lowercase and strip the string\n",
    "\n",
    "data['CarName'] = data['CarName'].apply(lambda x: x.lower().strip())"
   ]
  },
  {
   "cell_type": "code",
   "execution_count": null,
   "metadata": {
    "colab": {
     "base_uri": "https://localhost:8080/",
     "height": 101
    },
    "colab_type": "code",
    "id": "PRAhx50Ec5Hr",
    "outputId": "dd72b15c-53c2-4c9c-a435-3c089b6672eb"
   },
   "outputs": [],
   "source": [
    "# Lets check the unique values of the names of the cars\n",
    "\n",
    "data[\"CarName\"].unique()"
   ]
  },
  {
   "cell_type": "code",
   "execution_count": null,
   "metadata": {
    "colab": {},
    "colab_type": "code",
    "id": "mV4WBZeOc5Hy"
   },
   "outputs": [],
   "source": [
    "# As we can see there are some obvious spelling mistakes in the names of the cars so lets rectify that\n",
    "\n",
    "def map_car_name(name_car):\n",
    "  if name_car == \"porcshce\":\n",
    "    return \"porsche\"\n",
    "  if name_car == 'maxda':\n",
    "    return 'mazda' \n",
    "  if name_car == 'toyouta':\n",
    "    return 'toyota'\n",
    "  if name_car == 'vokswagen':\n",
    "    return 'volkswagen'\n",
    "  if name_car == 'vw':\n",
    "    return 'volkswagen'\n",
    "  else:\n",
    "    return name_car\n",
    "\n",
    "data[\"CarName\"] = data[\"CarName\"].apply(map_car_name)"
   ]
  },
  {
   "cell_type": "code",
   "execution_count": null,
   "metadata": {
    "colab": {
     "base_uri": "https://localhost:8080/",
     "height": 894
    },
    "colab_type": "code",
    "id": "YNHv3ENJc5HM",
    "outputId": "1267ebc3-342c-4661-a5eb-f5931bd12efb"
   },
   "outputs": [],
   "source": [
    "# Lets check the variation of price based on the Companies of the cars\n",
    "\n",
    "plt.figure(figsize=(20, 15))\n",
    "sns.boxplot(x = 'CarName', y = 'price', data = data)"
   ]
  },
  {
   "cell_type": "markdown",
   "metadata": {
    "colab_type": "text",
    "id": "LhnbRRi9ptTt"
   },
   "source": [
    "We can clearly see how various companies have a much higher median rate and even ranges of price than others, prompting us to believe that there is strong correlation of the CarName variable with the prices or at least it will play a role in determining the cost of the vehicle."
   ]
  },
  {
   "cell_type": "code",
   "execution_count": null,
   "metadata": {
    "colab": {},
    "colab_type": "code",
    "id": "Vnhkur2Sc5H3"
   },
   "outputs": [],
   "source": [
    "# Lets create dummy dataframes of categorical variables with multiple classes\n",
    "# Starting with \"CarName\" and drop \"nissan\" as it does not seem significant in\n",
    "# determining the price of the vehicle\n",
    "\n",
    "d_1=pd.get_dummies(data['CarName'])\n",
    "d_1.drop(['nissan'], axis = 1, inplace = True)"
   ]
  },
  {
   "cell_type": "code",
   "execution_count": null,
   "metadata": {
    "colab": {
     "base_uri": "https://localhost:8080/",
     "height": 50
    },
    "colab_type": "code",
    "id": "_omVAD-xfMzD",
    "outputId": "3094ea68-4835-4396-a7b1-a85ad1049376"
   },
   "outputs": [],
   "source": [
    "# lets check \"carbody\" and the classes in it\n",
    "\n",
    "data[\"carbody\"].unique()"
   ]
  },
  {
   "cell_type": "code",
   "execution_count": null,
   "metadata": {
    "colab": {
     "base_uri": "https://localhost:8080/",
     "height": 514
    },
    "colab_type": "code",
    "id": "kXrrKQadrUwV",
    "outputId": "d9cfe5fb-2386-4304-b7f9-0fc29adbc997"
   },
   "outputs": [],
   "source": [
    "# Lets check the variation of price based on the \"carbody\"\n",
    "\n",
    "plt.figure(figsize=(10, 8))\n",
    "sns.boxplot(x = 'carbody', y = 'price', data = data)"
   ]
  },
  {
   "cell_type": "code",
   "execution_count": null,
   "metadata": {
    "colab": {},
    "colab_type": "code",
    "id": "aOW9qjRbc5H_"
   },
   "outputs": [],
   "source": [
    "# lets create a dummy dataframe for \"carbody\" and drop hatchback as its contribution to price\n",
    "# may not be significant\n",
    "\n",
    "d_2=pd.get_dummies(data['carbody'])\n",
    "d_2.drop(['hatchback'], axis = 1, inplace = True)"
   ]
  },
  {
   "cell_type": "code",
   "execution_count": null,
   "metadata": {
    "colab": {
     "base_uri": "https://localhost:8080/",
     "height": 34
    },
    "colab_type": "code",
    "id": "Xl6V3sQNv3X3",
    "outputId": "b8177e81-4655-4c5b-fa4c-a02ea6a6c2b4"
   },
   "outputs": [],
   "source": [
    "# lets check \"enginetype\" and the classes in it\n",
    "\n",
    "data[\"enginetype\"].unique()"
   ]
  },
  {
   "cell_type": "code",
   "execution_count": null,
   "metadata": {
    "colab": {
     "base_uri": "https://localhost:8080/",
     "height": 514
    },
    "colab_type": "code",
    "id": "GK_2jQ7Zr_qu",
    "outputId": "b6585d07-2d57-4cda-9009-6f0c68f82253"
   },
   "outputs": [],
   "source": [
    "# Lets check the variation of price based on the \"enginetype\"\n",
    "\n",
    "plt.figure(figsize=(10, 8))\n",
    "sns.boxplot(x = 'enginetype', y = 'price', data = data)"
   ]
  },
  {
   "cell_type": "code",
   "execution_count": null,
   "metadata": {
    "colab": {},
    "colab_type": "code",
    "id": "CfINn0wgc5Ia"
   },
   "outputs": [],
   "source": [
    "# dummy dataframe for \"enginetype\" and drop the first one \"dohc\" as its almost in the same range as a lot of other classes so we can't expect the dependence of price on it. \n",
    "\n",
    "d_3=pd.get_dummies(data['enginetype'])\n",
    "d_3.drop(['dohc'], axis = 1, inplace = True)"
   ]
  },
  {
   "cell_type": "code",
   "execution_count": null,
   "metadata": {
    "colab": {
     "base_uri": "https://localhost:8080/",
     "height": 34
    },
    "colab_type": "code",
    "id": "A_Zs8wZGvxz3",
    "outputId": "f645b001-f113-44c3-8905-62966c56d4b3"
   },
   "outputs": [],
   "source": [
    "# lets check \"drivewheel\" and the classes in it\n",
    "\n",
    "data[\"drivewheel\"].unique()"
   ]
  },
  {
   "cell_type": "code",
   "execution_count": null,
   "metadata": {
    "colab": {
     "base_uri": "https://localhost:8080/",
     "height": 514
    },
    "colab_type": "code",
    "id": "7N-pdY3Nwf9t",
    "outputId": "d3bbcd95-052a-4222-9c3f-7f2bd5015169"
   },
   "outputs": [],
   "source": [
    "# Lets check the variation of price based on the \"drivewheel\"\n",
    "\n",
    "plt.figure(figsize=(10, 8))\n",
    "sns.boxplot(x = 'drivewheel', y = 'price', data = data)"
   ]
  },
  {
   "cell_type": "code",
   "execution_count": null,
   "metadata": {
    "colab": {},
    "colab_type": "code",
    "id": "447FdEeyc5IQ"
   },
   "outputs": [],
   "source": [
    "# dummy dataframe for \"drivewheel\" and drop \"4wd\" as its almost in the same\n",
    "# range as a lot of \"fwd\" class and hence keep one of those two. \n",
    "\n",
    "d_4=pd.get_dummies(data['drivewheel'])\n",
    "d_4.drop(['4wd'], axis = 1, inplace = True)"
   ]
  },
  {
   "cell_type": "code",
   "execution_count": null,
   "metadata": {
    "colab": {
     "base_uri": "https://localhost:8080/",
     "height": 50
    },
    "colab_type": "code",
    "id": "NhpmB3Itw_wl",
    "outputId": "ccfa6fa9-a180-467f-acfa-6c336f8dc61f"
   },
   "outputs": [],
   "source": [
    "# lets check \"fuelsystem\" and the classes in it\n",
    "\n",
    "data[\"fuelsystem\"].unique()"
   ]
  },
  {
   "cell_type": "code",
   "execution_count": null,
   "metadata": {
    "colab": {
     "base_uri": "https://localhost:8080/",
     "height": 514
    },
    "colab_type": "code",
    "id": "w4xAseLpxJ5g",
    "outputId": "3dced273-078b-484b-9aa4-c90469bc596c"
   },
   "outputs": [],
   "source": [
    "# Lets check the variation of price based on the \"fuelsystem\"\n",
    "\n",
    "plt.figure(figsize=(10, 8))\n",
    "sns.boxplot(x = 'fuelsystem', y = 'price', data = data)"
   ]
  },
  {
   "cell_type": "code",
   "execution_count": null,
   "metadata": {
    "colab": {},
    "colab_type": "code",
    "id": "yCIe-xlMc5Ii"
   },
   "outputs": [],
   "source": [
    "# dummy dataframe for \"fuelsystem\" and drop \"1bbl\" as it and \"2bbl\" have almost same variance so the absence of that would not affect \n",
    "# the analysis and show no variation on prediction of the price\n",
    "\n",
    "d_5=pd.get_dummies(data['fuelsystem'])\n",
    "d_5.drop(['1bbl'], axis = 1, inplace = True)"
   ]
  },
  {
   "cell_type": "markdown",
   "metadata": {
    "colab_type": "text",
    "id": "a7Br1HvaIJW4"
   },
   "source": [
    "It is important to drop variables which seem harmless to the performance of the model, which may even be the first variable that you may drop. This will negatively impact the performance of the model drastically and hence do not confuse the presence of one column equivalent of absence of it and presence of its counterparts."
   ]
  },
  {
   "cell_type": "code",
   "execution_count": null,
   "metadata": {
    "colab": {},
    "colab_type": "code",
    "id": "MbXpecoVc5Iq"
   },
   "outputs": [],
   "source": [
    "# Now lets combine all the dummy matrices formed to the main matrix\n",
    "\n",
    "data = pd.concat([data, d_1, d_2, d_3, d_4, d_5], axis = 1)"
   ]
  },
  {
   "cell_type": "code",
   "execution_count": null,
   "metadata": {
    "colab": {},
    "colab_type": "code",
    "id": "LSS8CyPVc5It"
   },
   "outputs": [],
   "source": [
    "# Also drop the main Column from which these dummy columns were generated\n",
    "\n",
    "data.drop(['CarName', 'carbody','enginetype', 'drivewheel','fuelsystem'],axis = 1, inplace = True)"
   ]
  },
  {
   "cell_type": "code",
   "execution_count": null,
   "metadata": {
    "colab": {
     "base_uri": "https://localhost:8080/",
     "height": 1000
    },
    "colab_type": "code",
    "id": "9DICzT5AzKwp",
    "outputId": "7862df32-b254-4fd2-b073-6077a8c9d978"
   },
   "outputs": [],
   "source": [
    "# Lets observe how these new values fit in into the dataframe and see if there is any issue\n",
    "\n",
    "data.info()"
   ]
  },
  {
   "cell_type": "code",
   "execution_count": null,
   "metadata": {
    "colab": {},
    "colab_type": "code",
    "id": "tqHVZWJLc5I5"
   },
   "outputs": [],
   "source": [
    "# Now that there is no issue with the data let's go ahead and create training and testing data\n",
    "\n",
    "from sklearn.model_selection import train_test_split\n",
    "\n",
    "np.random.seed(0)\n",
    "df_train, df_test = train_test_split(data, train_size = 0.7, test_size = 0.3, random_state = 100)"
   ]
  },
  {
   "cell_type": "code",
   "execution_count": null,
   "metadata": {
    "colab": {},
    "colab_type": "code",
    "id": "GeIm-fEBc5I8"
   },
   "outputs": [],
   "source": [
    "# Now lets perform scaling of the training data in the forthcoming cells and check the values after the same\n",
    "\n",
    "from sklearn.preprocessing import MinMaxScaler"
   ]
  },
  {
   "cell_type": "code",
   "execution_count": null,
   "metadata": {
    "colab": {},
    "colab_type": "code",
    "id": "BaFTcjjQc5I-"
   },
   "outputs": [],
   "source": [
    "scaler = MinMaxScaler()"
   ]
  },
  {
   "cell_type": "code",
   "execution_count": null,
   "metadata": {
    "colab": {},
    "colab_type": "code",
    "id": "yEOd37T2c5JC"
   },
   "outputs": [],
   "source": [
    "# There should not be any difference in scaling all the values and just the numerical variables\n",
    "# But still we would prefer performing the same on the numerical variables.\n",
    "\n",
    "quantitative_var=[\"wheelbase\",\"carlength\",\"carwidth\",\"carheight\",\"curbweight\",\"enginesize\",\"boreratio\",\"stroke\",\n",
    "                  \"compressionratio\",\"horsepower\",\"peakrpm\",\"citympg\",\"highwaympg\",\"price\"]\n",
    "df_train[quantitative_var] = scaler.fit_transform(df_train[quantitative_var])"
   ]
  },
  {
   "cell_type": "code",
   "execution_count": null,
   "metadata": {
    "colab": {
     "base_uri": "https://localhost:8080/",
     "height": 262
    },
    "colab_type": "code",
    "id": "5RD1jiGec5JG",
    "outputId": "c7130177-4022-4e13-a6c3-b861d5e7131e"
   },
   "outputs": [],
   "source": [
    "df_train.head()"
   ]
  },
  {
   "cell_type": "code",
   "execution_count": null,
   "metadata": {
    "colab": {
     "base_uri": "https://localhost:8080/",
     "height": 1000
    },
    "colab_type": "code",
    "id": "S8EtyaJ0c5JN",
    "outputId": "a2ab48fa-ba9a-4371-f29f-712649fa533c",
    "scrolled": true
   },
   "outputs": [],
   "source": [
    "# Lets observe the common correlations of all the variables that we are considering in our model and draw relevant conclusions\n",
    "\n",
    "plt.figure(figsize = (50, 50))\n",
    "sns.heatmap(df_train.corr(), annot = True, cmap=\"RdYlGn\")\n",
    "plt.show()"
   ]
  },
  {
   "cell_type": "markdown",
   "metadata": {
    "colab_type": "text",
    "id": "013DQrQU2Ayy"
   },
   "source": [
    "The conclusions we can draw from these values is that the variable highly co-related to \"price\" are:\n",
    "[\"+mpfi\", \"-2bbl\", \"+rwd\", \"-fwd\", \"-citympg\",\"-highwaympg\", \"+horsepower\", \"+boreratio\", \"+enginesize\", \"+cylindernumber\", \"+curbweight\", \"+carwidth\", \"+carlength\", \"+wheelbase\"]\n",
    "\n",
    "The sign indicates positive or negative correlation so we can expect the presence of some of these varibales including some car names in the final model.\n",
    "\n",
    "Also to be noted is that the following variables are highly correlated to each other:\n",
    "*   wheelbase, carlength, carwidth, carheight, curbweight, enginesize, boreratio\n",
    "*   citympg, highwaympg\n",
    "\n",
    "There is another observation on \"mercury\",\"spfi\",\"mfi as there are just no correlations plotted for these variables\n",
    "\n"
   ]
  },
  {
   "cell_type": "code",
   "execution_count": null,
   "metadata": {
    "colab": {
     "base_uri": "https://localhost:8080/",
     "height": 943
    },
    "colab_type": "code",
    "id": "Ap_sn-ZRaEWr",
    "outputId": "b45a7fea-6858-4588-d9b2-5b934c3db8e5"
   },
   "outputs": [],
   "source": [
    "# lets just observe the variation of price with quantitative variables more closely to understand where multicolinearity might occur\n",
    "\n",
    "plt.figure(figsize = (15, 15))\n",
    "sns.heatmap(df_train[quantitative_var].corr(), annot = True, cmap=\"RdYlGn\")\n",
    "plt.show()"
   ]
  },
  {
   "cell_type": "markdown",
   "metadata": {
    "colab_type": "text",
    "id": "LfzK87UZ6SBZ"
   },
   "source": [
    "We can again see the same observations as before and hence draw a few conclusions:\n",
    "\n",
    "*   In the event when highly correlated variables clash(holding opposite signs of coefficients or being eliminated on the basis of p-values or VIF), we must decide to remove the variable with the least correlation to price.\n",
    "*   When we observe that in our final model, correlated values hold opposite signs which is counterintuitive, we can conclude the model in innacurate for inference.\n",
    "\n"
   ]
  },
  {
   "cell_type": "code",
   "execution_count": null,
   "metadata": {
    "colab": {},
    "colab_type": "code",
    "id": "O0GtFEMxc5JX"
   },
   "outputs": [],
   "source": [
    "# Lets start the training by first creating the training data\n",
    "\n",
    "y_train = df_train.pop('price')\n",
    "X_train = df_train"
   ]
  },
  {
   "cell_type": "code",
   "execution_count": null,
   "metadata": {
    "colab": {
     "base_uri": "https://localhost:8080/",
     "height": 321
    },
    "colab_type": "code",
    "id": "FvopIow-bf7v",
    "outputId": "5f375c93-ca95-4981-b153-94266df845e3"
   },
   "outputs": [],
   "source": [
    "X_train.describe()"
   ]
  },
  {
   "cell_type": "markdown",
   "metadata": {
    "colab_type": "text",
    "id": "hIJ_Vrmi1wN9"
   },
   "source": [
    "As earlier raised by the correlation matrix, the empty lines in \"mercury\", \"spfi\", \"mfi\" are as they have entirely no values other than 0. We can remove these values from the model as they do not bring any variation that it can learn"
   ]
  },
  {
   "cell_type": "code",
   "execution_count": null,
   "metadata": {
    "colab": {
     "base_uri": "https://localhost:8080/",
     "height": 1000
    },
    "colab_type": "code",
    "id": "XNCpjxdSc5Kd",
    "outputId": "33edde05-62f1-4ec7-9750-1e924f7f06e7"
   },
   "outputs": [],
   "source": [
    "# Now we will begin with the linear regression model using statsmodel.api,  observe the statistics offered by it and VIF\n",
    "# to eliminate variables that may seem otherwise insignificant based on p-values/t-values.\n",
    "# The elimination will sometimes be based on VIF values and predominantly on p-values/t-values.\n",
    "\n",
    "# The proceedure being followed is manual feature elimination and any variable that shows the highest p-value(>=0.05) and\n",
    "# highest VIF(strictly >=10 and moderately for 10>=var>=5) will be eliminated. \n",
    "\n",
    "# There will also be considerable check on the coefficients to see if the model is either counter-intuitive or \n",
    "# not interested in that variable and be eliminated.\n",
    "\n",
    "# This process will continue till both the p-value and VIF criteria are satisfied at least moderately while preserveing \n",
    "# performance on training and will finally be tested using test dataset.\n",
    "\n",
    "X = X_train.copy()\n",
    "X_train_lm = sm.add_constant(X)\n",
    "\n",
    "lr = sm.OLS(y_train, X_train_lm).fit()\n",
    "lr.summary()"
   ]
  },
  {
   "cell_type": "code",
   "execution_count": null,
   "metadata": {
    "colab": {
     "base_uri": "https://localhost:8080/",
     "height": 1000
    },
    "colab_type": "code",
    "id": "JkAwd6A7c5Kr",
    "outputId": "4f81f75c-e705-454c-8e78-6a2631b504e8"
   },
   "outputs": [],
   "source": [
    "vif = pd.DataFrame()\n",
    "vif['Columns'] = X.columns\n",
    "vif['VIF'] = [variance_inflation_factor(X.values, i) for i in range(X.shape[1])]\n",
    "vif['VIF'] = round(vif['VIF'], 2)\n",
    "vif = vif.sort_values(by = \"VIF\", ascending = False)\n",
    "vif"
   ]
  },
  {
   "cell_type": "code",
   "execution_count": null,
   "metadata": {
    "colab": {
     "base_uri": "https://localhost:8080/",
     "height": 1000
    },
    "colab_type": "code",
    "id": "Wp7fVMhWc5Kv",
    "outputId": "cac936c7-dced-465d-ff06-dfdc592528a3"
   },
   "outputs": [],
   "source": [
    "X = X.drop(columns=['ohcv'])\n",
    "X_train_lm = sm.add_constant(X)\n",
    "lr = sm.OLS(y_train, X_train_lm).fit()\n",
    "lr.summary()"
   ]
  },
  {
   "cell_type": "code",
   "execution_count": null,
   "metadata": {
    "colab": {
     "base_uri": "https://localhost:8080/",
     "height": 1000
    },
    "colab_type": "code",
    "id": "YdxUO8OAfGfH",
    "outputId": "c674e482-8da1-47fb-cf4f-26530bcf7063"
   },
   "outputs": [],
   "source": [
    "#coefficients are 0 for mfi and spfi and so are all the values of those columns in the training set, so we should remove them.\n",
    "\n",
    "X = X.drop(columns = ['mfi','spfi'])\n",
    "X_train_lm = sm.add_constant(X)\n",
    "lr = sm.OLS(y_train, X_train_lm).fit()\n",
    "lr.summary()"
   ]
  },
  {
   "cell_type": "code",
   "execution_count": null,
   "metadata": {
    "colab": {
     "base_uri": "https://localhost:8080/",
     "height": 1000
    },
    "colab_type": "code",
    "id": "bHjK7XnKc5K5",
    "outputId": "01bcb494-9f49-4682-c283-ad69b15e20ab"
   },
   "outputs": [],
   "source": [
    "X = X.drop(columns = ['jaguar'])\n",
    "X_train_lm = sm.add_constant(X)\n",
    "lr = sm.OLS(y_train, X_train_lm).fit()\n",
    "lr.summary()"
   ]
  },
  {
   "cell_type": "code",
   "execution_count": null,
   "metadata": {
    "colab": {
     "base_uri": "https://localhost:8080/",
     "height": 1000
    },
    "colab_type": "code",
    "id": "8FIszTbdc5LC",
    "outputId": "76327bfa-3544-4e88-97b0-5c6226119496"
   },
   "outputs": [],
   "source": [
    "X = X.drop(columns = ['mpfi'])\n",
    "X_train_lm = sm.add_constant(X)\n",
    "lr = sm.OLS(y_train, X_train_lm).fit()\n",
    "lr.summary()"
   ]
  },
  {
   "cell_type": "code",
   "execution_count": null,
   "metadata": {
    "colab": {
     "base_uri": "https://localhost:8080/",
     "height": 1000
    },
    "colab_type": "code",
    "id": "yt9PGUNRc5LK",
    "outputId": "a5ed64ce-46be-4ec9-919c-7c456ae0825f"
   },
   "outputs": [],
   "source": [
    "X = X.drop(columns = ['spdi'])\n",
    "X_train_lm = sm.add_constant(X)\n",
    "lr = sm.OLS(y_train, X_train_lm).fit()\n",
    "lr.summary()"
   ]
  },
  {
   "cell_type": "code",
   "execution_count": null,
   "metadata": {
    "colab": {
     "base_uri": "https://localhost:8080/",
     "height": 1000
    },
    "colab_type": "code",
    "id": "RHKs3jIUc5LP",
    "outputId": "a363ffec-dc8c-4000-fdf7-2818f971dd55"
   },
   "outputs": [],
   "source": [
    "X = X.drop(columns=['symboling'])\n",
    "X_train_lm = sm.add_constant(X)\n",
    "lr = sm.OLS(y_train, X_train_lm).fit()\n",
    "lr.summary()"
   ]
  },
  {
   "cell_type": "code",
   "execution_count": null,
   "metadata": {
    "colab": {
     "base_uri": "https://localhost:8080/",
     "height": 1000
    },
    "colab_type": "code",
    "id": "iY7Frbskc5LW",
    "outputId": "7ec188bd-2e5d-4246-ee7b-6993fc947028"
   },
   "outputs": [],
   "source": [
    "X = X.drop(columns = ['rwd'])\n",
    "X_train_lm = sm.add_constant(X)\n",
    "lr = sm.OLS(y_train, X_train_lm).fit()\n",
    "lr.summary()"
   ]
  },
  {
   "cell_type": "code",
   "execution_count": null,
   "metadata": {
    "colab": {
     "base_uri": "https://localhost:8080/",
     "height": 1000
    },
    "colab_type": "code",
    "id": "APWYAkfXc5Lb",
    "outputId": "b5397f76-fa72-4f30-d382-79680176a734"
   },
   "outputs": [],
   "source": [
    "X = X.drop(columns = 'isuzu')\n",
    "X_train_lm = sm.add_constant(X)\n",
    "lr = sm.OLS(y_train, X_train_lm).fit()\n",
    "lr.summary()"
   ]
  },
  {
   "cell_type": "code",
   "execution_count": null,
   "metadata": {
    "colab": {
     "base_uri": "https://localhost:8080/",
     "height": 1000
    },
    "colab_type": "code",
    "id": "XzX1hixEc5Li",
    "outputId": "f70560c7-6987-4439-d148-a82e1caf9ea6"
   },
   "outputs": [],
   "source": [
    "X = X.drop(columns = 'citympg')\n",
    "X_train_lm = sm.add_constant(X)\n",
    "lr = sm.OLS(y_train, X_train_lm).fit()\n",
    "lr.summary()"
   ]
  },
  {
   "cell_type": "code",
   "execution_count": null,
   "metadata": {
    "colab": {
     "base_uri": "https://localhost:8080/",
     "height": 1000
    },
    "colab_type": "code",
    "id": "0PISJm9Dk1vK",
    "outputId": "483ae169-814b-46a9-e6c1-dc44e4f22b99"
   },
   "outputs": [],
   "source": [
    "vif = pd.DataFrame()\n",
    "vif['Columns'] = X.columns\n",
    "vif['VIF'] = [variance_inflation_factor(X.values, i) for i in range(X.shape[1])]\n",
    "vif['VIF'] = round(vif['VIF'], 2)\n",
    "vif = vif.sort_values(by = \"VIF\", ascending = False)\n",
    "vif"
   ]
  },
  {
   "cell_type": "code",
   "execution_count": null,
   "metadata": {
    "colab": {
     "base_uri": "https://localhost:8080/",
     "height": 1000
    },
    "colab_type": "code",
    "id": "AhgebU8Nc5Lo",
    "outputId": "5cdbd653-5265-480f-b568-f0c029f08d73"
   },
   "outputs": [],
   "source": [
    "X = X.drop(columns = 'mercury')\n",
    "X_train_lm = sm.add_constant(X)\n",
    "lr = sm.OLS(y_train, X_train_lm).fit()\n",
    "lr.summary()"
   ]
  },
  {
   "cell_type": "code",
   "execution_count": null,
   "metadata": {
    "colab": {
     "base_uri": "https://localhost:8080/",
     "height": 1000
    },
    "colab_type": "code",
    "id": "86Iy7IHcc5Lw",
    "outputId": "468650e4-44be-40d9-c9c6-ca754124bd88"
   },
   "outputs": [],
   "source": [
    "X = X.drop(columns = 'hardtop')\n",
    "X_train_lm = sm.add_constant(X)\n",
    "lr = sm.OLS(y_train, X_train_lm).fit()\n",
    "lr.summary()"
   ]
  },
  {
   "cell_type": "code",
   "execution_count": null,
   "metadata": {
    "colab": {
     "base_uri": "https://localhost:8080/",
     "height": 1000
    },
    "colab_type": "code",
    "id": "iMHFJEdFc5L6",
    "outputId": "4a891d3e-d7f2-42ee-b7d5-1e5abad3a218"
   },
   "outputs": [],
   "source": [
    "X = X.drop(columns = 'volkswagen')\n",
    "X_train_lm = sm.add_constant(X)\n",
    "lr = sm.OLS(y_train, X_train_lm).fit()\n",
    "lr.summary()"
   ]
  },
  {
   "cell_type": "code",
   "execution_count": null,
   "metadata": {
    "colab": {
     "base_uri": "https://localhost:8080/",
     "height": 1000
    },
    "colab_type": "code",
    "id": "mc4RXdMxmMoq",
    "outputId": "7e021a31-d2b6-4005-8f1e-a1eb5a50de0d"
   },
   "outputs": [],
   "source": [
    "vif = pd.DataFrame()\n",
    "vif['Columns'] = X.columns\n",
    "vif['VIF'] = [variance_inflation_factor(X.values, i) for i in range(X.shape[1])]\n",
    "vif['VIF'] = round(vif['VIF'], 2)\n",
    "vif = vif.sort_values(by = \"VIF\", ascending = False)\n",
    "vif"
   ]
  },
  {
   "cell_type": "code",
   "execution_count": null,
   "metadata": {
    "colab": {
     "base_uri": "https://localhost:8080/",
     "height": 1000
    },
    "colab_type": "code",
    "id": "pfmvFFWyc5ME",
    "outputId": "637b6bcb-6877-4df7-a3ec-2357597cf6ee"
   },
   "outputs": [],
   "source": [
    "X = X.drop(columns = 'subaru')\n",
    "X_train_lm = sm.add_constant(X)\n",
    "lr = sm.OLS(y_train, X_train_lm).fit()\n",
    "lr.summary()"
   ]
  },
  {
   "cell_type": "code",
   "execution_count": null,
   "metadata": {
    "colab": {
     "base_uri": "https://localhost:8080/",
     "height": 1000
    },
    "colab_type": "code",
    "id": "kX1D4xToc5MH",
    "outputId": "a355d4f5-274f-4cf1-a522-0c5c3feb73de"
   },
   "outputs": [],
   "source": [
    "X = X.drop(columns = 'audi')\n",
    "X_train_lm = sm.add_constant(X)\n",
    "lr = sm.OLS(y_train, X_train_lm).fit()\n",
    "lr.summary()"
   ]
  },
  {
   "cell_type": "code",
   "execution_count": null,
   "metadata": {
    "colab": {
     "base_uri": "https://localhost:8080/",
     "height": 1000
    },
    "colab_type": "code",
    "id": "3b_rf-K1c5ML",
    "outputId": "06bb1be1-3961-4718-c800-a71da7f43d0a"
   },
   "outputs": [],
   "source": [
    "X = X.drop(columns = 'doornumber')\n",
    "X_train_lm = sm.add_constant(X)\n",
    "lr = sm.OLS(y_train, X_train_lm).fit()\n",
    "lr.summary()"
   ]
  },
  {
   "cell_type": "code",
   "execution_count": null,
   "metadata": {
    "colab": {
     "base_uri": "https://localhost:8080/",
     "height": 1000
    },
    "colab_type": "code",
    "id": "oHBo8lDTc5MR",
    "outputId": "599e5bb0-c0d1-4c87-f870-46ee37b5894c"
   },
   "outputs": [],
   "source": [
    "X = X.drop(columns = 'mazda')\n",
    "X_train_lm = sm.add_constant(X)\n",
    "lr = sm.OLS(y_train, X_train_lm).fit()\n",
    "lr.summary()"
   ]
  },
  {
   "cell_type": "code",
   "execution_count": null,
   "metadata": {
    "colab": {
     "base_uri": "https://localhost:8080/",
     "height": 1000
    },
    "colab_type": "code",
    "id": "YerSJzxwc5Mc",
    "outputId": "f4c068f4-ab71-4c6e-d73e-bdd0063304ec"
   },
   "outputs": [],
   "source": [
    "X = X.drop(columns = 'toyota')\n",
    "X_train_lm = sm.add_constant(X)\n",
    "lr = sm.OLS(y_train, X_train_lm).fit()\n",
    "lr.summary()"
   ]
  },
  {
   "cell_type": "code",
   "execution_count": null,
   "metadata": {
    "colab": {
     "base_uri": "https://localhost:8080/",
     "height": 1000
    },
    "colab_type": "code",
    "id": "9aepzbpGc5M4",
    "outputId": "ddfd3fff-10f6-4db1-8e59-b9e270c1b057"
   },
   "outputs": [],
   "source": [
    "X = X.drop(columns = 'alfa-romero')\n",
    "X_train_lm = sm.add_constant(X)\n",
    "lr = sm.OLS(y_train, X_train_lm).fit()\n",
    "lr.summary()"
   ]
  },
  {
   "cell_type": "code",
   "execution_count": null,
   "metadata": {
    "colab": {
     "base_uri": "https://localhost:8080/",
     "height": 1000
    },
    "colab_type": "code",
    "id": "C21N5o1Yc5ND",
    "outputId": "736455df-0934-4a8a-9994-9946595b2b7d"
   },
   "outputs": [],
   "source": [
    "X = X.drop(columns = 'renault')\n",
    "X_train_lm = sm.add_constant(X)\n",
    "lr = sm.OLS(y_train, X_train_lm).fit()\n",
    "lr.summary()"
   ]
  },
  {
   "cell_type": "code",
   "execution_count": null,
   "metadata": {
    "colab": {
     "base_uri": "https://localhost:8080/",
     "height": 1000
    },
    "colab_type": "code",
    "id": "UOnocqcIc5NM",
    "outputId": "6ef2e4d8-e8e8-4369-952b-600ddeb0a13c"
   },
   "outputs": [],
   "source": [
    "X = X.drop(columns = 'fueltype')\n",
    "X_train_lm = sm.add_constant(X)\n",
    "lr = sm.OLS(y_train, X_train_lm).fit()\n",
    "lr.summary()"
   ]
  },
  {
   "cell_type": "code",
   "execution_count": null,
   "metadata": {
    "colab": {
     "base_uri": "https://localhost:8080/",
     "height": 1000
    },
    "colab_type": "code",
    "id": "fdPO-K6Lc5NV",
    "outputId": "2328703d-9ea4-429e-c037-b80a2389a2a9"
   },
   "outputs": [],
   "source": [
    "X = X.drop(columns = 'horsepower')\n",
    "X_train_lm = sm.add_constant(X)\n",
    "lr = sm.OLS(y_train, X_train_lm).fit()\n",
    "lr.summary()"
   ]
  },
  {
   "cell_type": "code",
   "execution_count": null,
   "metadata": {
    "colab": {
     "base_uri": "https://localhost:8080/",
     "height": 1000
    },
    "colab_type": "code",
    "id": "jCaPksCkc5Np",
    "outputId": "fea2d8b3-f783-4cc3-9bd0-e236c8435731"
   },
   "outputs": [],
   "source": [
    "X = X.drop(columns = '4bbl')\n",
    "X_train_lm = sm.add_constant(X)\n",
    "lr = sm.OLS(y_train, X_train_lm).fit()\n",
    "lr.summary()"
   ]
  },
  {
   "cell_type": "code",
   "execution_count": null,
   "metadata": {
    "colab": {
     "base_uri": "https://localhost:8080/",
     "height": 1000
    },
    "colab_type": "code",
    "id": "tZV9oPj0c5N_",
    "outputId": "292d152b-b84e-4d8e-a15d-5bd55bc18a00"
   },
   "outputs": [],
   "source": [
    "vif = pd.DataFrame()\n",
    "vif['Columns'] = X.columns\n",
    "vif['VIF'] = [variance_inflation_factor(X.values, i) for i in range(X.shape[1])]\n",
    "vif['VIF'] = round(vif['VIF'], 2)\n",
    "vif = vif.sort_values(by = \"VIF\", ascending = False)\n",
    "vif"
   ]
  },
  {
   "cell_type": "code",
   "execution_count": null,
   "metadata": {
    "colab": {
     "base_uri": "https://localhost:8080/",
     "height": 1000
    },
    "colab_type": "code",
    "id": "dBRRPU1cc5N8",
    "outputId": "3e9492ad-2ac3-4d41-832d-6af5e3f385e2"
   },
   "outputs": [],
   "source": [
    "X = X.drop(columns = 'compressionratio')\n",
    "X_train_lm = sm.add_constant(X)\n",
    "lr = sm.OLS(y_train, X_train_lm).fit()\n",
    "lr.summary()"
   ]
  },
  {
   "cell_type": "code",
   "execution_count": null,
   "metadata": {
    "colab": {
     "base_uri": "https://localhost:8080/",
     "height": 1000
    },
    "colab_type": "code",
    "id": "lRWdksRgc5O_",
    "outputId": "6d2c070f-e026-47f6-d97d-dba43201b2e9"
   },
   "outputs": [],
   "source": [
    "X = X.drop(columns = 'idi')\n",
    "X_train_lm = sm.add_constant(X)\n",
    "lr = sm.OLS(y_train, X_train_lm).fit()\n",
    "lr.summary()"
   ]
  },
  {
   "cell_type": "code",
   "execution_count": null,
   "metadata": {
    "colab": {
     "base_uri": "https://localhost:8080/",
     "height": 1000
    },
    "colab_type": "code",
    "id": "UsKQr-jZc5PI",
    "outputId": "f695c023-36ae-409c-c8c1-af825a1e26cc"
   },
   "outputs": [],
   "source": [
    "X = X.drop(columns = 'fwd')\n",
    "X_train_lm = sm.add_constant(X)\n",
    "lr = sm.OLS(y_train, X_train_lm).fit()\n",
    "lr.summary()"
   ]
  },
  {
   "cell_type": "code",
   "execution_count": null,
   "metadata": {
    "colab": {
     "base_uri": "https://localhost:8080/",
     "height": 1000
    },
    "colab_type": "code",
    "id": "AxYRRrcWc5PK",
    "outputId": "9e2caa8f-9c3c-4547-d456-4ccac64745f0"
   },
   "outputs": [],
   "source": [
    "vif = pd.DataFrame()\n",
    "vif['Columns'] = X.columns\n",
    "vif['VIF'] = [variance_inflation_factor(X.values, i) for i in range(X.shape[1])]\n",
    "vif['VIF'] = round(vif['VIF'], 2)\n",
    "vif = vif.sort_values(by = \"VIF\", ascending = False)\n",
    "vif"
   ]
  },
  {
   "cell_type": "code",
   "execution_count": null,
   "metadata": {
    "colab": {
     "base_uri": "https://localhost:8080/",
     "height": 1000
    },
    "colab_type": "code",
    "id": "g4Jcpvbnc5PP",
    "outputId": "c8a70f0b-97e5-46c0-8aea-ab44bf818602"
   },
   "outputs": [],
   "source": [
    "X = X.drop(columns = 'carlength')\n",
    "X_train_lm = sm.add_constant(X)\n",
    "lr = sm.OLS(y_train, X_train_lm).fit()\n",
    "lr.summary()"
   ]
  },
  {
   "cell_type": "code",
   "execution_count": null,
   "metadata": {
    "colab": {
     "base_uri": "https://localhost:8080/",
     "height": 994
    },
    "colab_type": "code",
    "id": "MJ3eiiZDc5PR",
    "outputId": "c363ff19-1b99-4b28-ae27-2d853abe255d"
   },
   "outputs": [],
   "source": [
    "vif = pd.DataFrame()\n",
    "vif['Columns'] = X.columns\n",
    "vif['VIF'] = [variance_inflation_factor(X.values, i) for i in range(X.shape[1])]\n",
    "vif['VIF'] = round(vif['VIF'], 2)\n",
    "vif = vif.sort_values(by = \"VIF\", ascending = False)\n",
    "vif"
   ]
  },
  {
   "cell_type": "code",
   "execution_count": null,
   "metadata": {
    "colab": {
     "base_uri": "https://localhost:8080/",
     "height": 1000
    },
    "colab_type": "code",
    "id": "9SRkqbhoc5PW",
    "outputId": "7a869c0d-437e-48a7-9786-687ccdec5827"
   },
   "outputs": [],
   "source": [
    "X = X.drop(columns = 'wagon')\n",
    "X_train_lm = sm.add_constant(X)\n",
    "lr = sm.OLS(y_train, X_train_lm).fit()\n",
    "lr.summary()"
   ]
  },
  {
   "cell_type": "code",
   "execution_count": null,
   "metadata": {
    "colab": {
     "base_uri": "https://localhost:8080/",
     "height": 1000
    },
    "colab_type": "code",
    "id": "arGAyE0Mc5Pd",
    "outputId": "7fd3a20f-293a-4474-f96c-6479afe191e8"
   },
   "outputs": [],
   "source": [
    "X = X.drop(columns = 'sedan')\n",
    "X_train_lm = sm.add_constant(X)\n",
    "lr = sm.OLS(y_train, X_train_lm).fit()\n",
    "lr.summary()"
   ]
  },
  {
   "cell_type": "code",
   "execution_count": null,
   "metadata": {
    "colab": {
     "base_uri": "https://localhost:8080/",
     "height": 935
    },
    "colab_type": "code",
    "id": "aI-np-xOc5Pf",
    "outputId": "253bdd46-3407-4a45-baaf-03d6e52da58b"
   },
   "outputs": [],
   "source": [
    "vif = pd.DataFrame()\n",
    "vif['Columns'] = X.columns\n",
    "vif['VIF'] = [variance_inflation_factor(X.values, i) for i in range(X.shape[1])]\n",
    "vif['VIF'] = round(vif['VIF'], 2)\n",
    "vif = vif.sort_values(by = \"VIF\", ascending = False)\n",
    "vif"
   ]
  },
  {
   "cell_type": "code",
   "execution_count": null,
   "metadata": {
    "colab": {
     "base_uri": "https://localhost:8080/",
     "height": 986
    },
    "colab_type": "code",
    "id": "AkLqd3tjc5Pk",
    "outputId": "104cce6d-341c-4aaf-ff34-5477cde1bc7c"
   },
   "outputs": [],
   "source": [
    "X = X.drop(columns = 'cylindernumber')\n",
    "X_train_lm = sm.add_constant(X)\n",
    "lr = sm.OLS(y_train, X_train_lm).fit()\n",
    "lr.summary()"
   ]
  },
  {
   "cell_type": "code",
   "execution_count": null,
   "metadata": {
    "colab": {
     "base_uri": "https://localhost:8080/",
     "height": 966
    },
    "colab_type": "code",
    "id": "xi7PVcLhc5Pp",
    "outputId": "a09175dc-2a9d-47cd-c13f-f01ccb93eae0"
   },
   "outputs": [],
   "source": [
    "X = X.drop(columns = 'dohcv')\n",
    "X_train_lm = sm.add_constant(X)\n",
    "lr = sm.OLS(y_train, X_train_lm).fit()\n",
    "lr.summary()"
   ]
  },
  {
   "cell_type": "code",
   "execution_count": null,
   "metadata": {
    "colab": {
     "base_uri": "https://localhost:8080/",
     "height": 946
    },
    "colab_type": "code",
    "id": "jy1VKevsc5Pu",
    "outputId": "118964f4-09f1-4fbb-f6d3-ada614f93cfb"
   },
   "outputs": [],
   "source": [
    "X = X.drop(columns = 'stroke')\n",
    "X_train_lm = sm.add_constant(X)\n",
    "lr = sm.OLS(y_train, X_train_lm).fit()\n",
    "lr.summary()"
   ]
  },
  {
   "cell_type": "code",
   "execution_count": null,
   "metadata": {
    "colab": {
     "base_uri": "https://localhost:8080/",
     "height": 846
    },
    "colab_type": "code",
    "id": "8d1Oa3C1c5Pv",
    "outputId": "a41e7e74-8885-4df7-dd5e-10dbe5f2a1f5"
   },
   "outputs": [],
   "source": [
    "vif = pd.DataFrame()\n",
    "vif['Columns'] = X.columns\n",
    "vif['VIF'] = [variance_inflation_factor(X.values, i) for i in range(X.shape[1])]\n",
    "vif['VIF'] = round(vif['VIF'], 2)\n",
    "vif = vif.sort_values(by = \"VIF\", ascending = False)\n",
    "vif"
   ]
  },
  {
   "cell_type": "code",
   "execution_count": null,
   "metadata": {
    "colab": {
     "base_uri": "https://localhost:8080/",
     "height": 926
    },
    "colab_type": "code",
    "id": "6Wl5twz4c5P2",
    "outputId": "6416d204-ca27-41b2-f01b-b474982d07bf"
   },
   "outputs": [],
   "source": [
    "X = X.drop(columns = 'curbweight')\n",
    "X_train_lm = sm.add_constant(X)\n",
    "lr = sm.OLS(y_train, X_train_lm).fit()\n",
    "lr.summary()"
   ]
  },
  {
   "cell_type": "code",
   "execution_count": null,
   "metadata": {
    "colab": {
     "base_uri": "https://localhost:8080/",
     "height": 906
    },
    "colab_type": "code",
    "id": "KXKhpNM1c5QB",
    "outputId": "fa830560-3dec-48f0-c993-3b5479fef979"
   },
   "outputs": [],
   "source": [
    "X = X.drop(columns = 'highwaympg')\n",
    "X_train_lm = sm.add_constant(X)\n",
    "lr = sm.OLS(y_train, X_train_lm).fit()\n",
    "lr.summary()"
   ]
  },
  {
   "cell_type": "code",
   "execution_count": null,
   "metadata": {
    "colab": {
     "base_uri": "https://localhost:8080/",
     "height": 886
    },
    "colab_type": "code",
    "id": "1O0R3hnSc5QE",
    "outputId": "22033c9b-595a-4418-e2f2-6ffa938ed600"
   },
   "outputs": [],
   "source": [
    "X = X.drop(columns = 'chevrolet')\n",
    "X_train_lm = sm.add_constant(X)\n",
    "lr = sm.OLS(y_train, X_train_lm).fit()\n",
    "lr.summary()"
   ]
  },
  {
   "cell_type": "code",
   "execution_count": null,
   "metadata": {
    "colab": {
     "base_uri": "https://localhost:8080/",
     "height": 758
    },
    "colab_type": "code",
    "id": "sSl_ruzUc5QH",
    "outputId": "c4816a02-e23b-4fd7-cf10-2b87ba7625b3"
   },
   "outputs": [],
   "source": [
    "vif = pd.DataFrame()\n",
    "vif['Columns'] = X.columns\n",
    "vif['VIF'] = [variance_inflation_factor(X.values, i) for i in range(X.shape[1])]\n",
    "vif['VIF'] = round(vif['VIF'], 2)\n",
    "vif = vif.sort_values(by = \"VIF\", ascending = False)\n",
    "vif"
   ]
  },
  {
   "cell_type": "code",
   "execution_count": null,
   "metadata": {
    "colab": {
     "base_uri": "https://localhost:8080/",
     "height": 866
    },
    "colab_type": "code",
    "id": "FYRYsK5bc5QN",
    "outputId": "68a9e97f-b042-418f-f71e-67e80ab57480"
   },
   "outputs": [],
   "source": [
    "X = X.drop(columns = 'carwidth')\n",
    "X_train_lm = sm.add_constant(X)\n",
    "lr = sm.OLS(y_train, X_train_lm).fit()\n",
    "lr.summary()"
   ]
  },
  {
   "cell_type": "code",
   "execution_count": null,
   "metadata": {
    "colab": {
     "base_uri": "https://localhost:8080/",
     "height": 846
    },
    "colab_type": "code",
    "id": "4HasG0kSc5QU",
    "outputId": "67e3005a-835f-4a53-d011-feabfea32d0d"
   },
   "outputs": [],
   "source": [
    "X = X.drop(columns = 'volvo')\n",
    "X_train_lm = sm.add_constant(X)\n",
    "lr = sm.OLS(y_train, X_train_lm).fit()\n",
    "lr.summary()"
   ]
  },
  {
   "cell_type": "code",
   "execution_count": null,
   "metadata": {
    "colab": {
     "base_uri": "https://localhost:8080/",
     "height": 826
    },
    "colab_type": "code",
    "id": "rjrRSXF4c5QY",
    "outputId": "465ec0eb-0eb3-4d45-da36-8d9901a7a8ba"
   },
   "outputs": [],
   "source": [
    "X = X.drop(columns = 'honda')\n",
    "X_train_lm = sm.add_constant(X)\n",
    "lr = sm.OLS(y_train, X_train_lm).fit()\n",
    "lr.summary()"
   ]
  },
  {
   "cell_type": "code",
   "execution_count": null,
   "metadata": {
    "colab": {
     "base_uri": "https://localhost:8080/",
     "height": 669
    },
    "colab_type": "code",
    "id": "uIGiuB5Zc5QZ",
    "outputId": "8c871cd3-64bd-4a0f-b5a0-bf9dadb4a19d"
   },
   "outputs": [],
   "source": [
    "vif = pd.DataFrame()\n",
    "vif['Columns'] = X.columns\n",
    "vif['VIF'] = [variance_inflation_factor(X.values, i) for i in range(X.shape[1])]\n",
    "vif['VIF'] = round(vif['VIF'], 2)\n",
    "vif = vif.sort_values(by = \"VIF\", ascending = False)\n",
    "vif"
   ]
  },
  {
   "cell_type": "code",
   "execution_count": null,
   "metadata": {
    "colab": {
     "base_uri": "https://localhost:8080/",
     "height": 806
    },
    "colab_type": "code",
    "id": "Zld5DV5ic5Qe",
    "outputId": "4cb5bc29-56e9-4890-df54-f74aea0e3c2d"
   },
   "outputs": [],
   "source": [
    "X = X.drop(columns = 'wheelbase')\n",
    "X_train_lm = sm.add_constant(X)\n",
    "lr = sm.OLS(y_train, X_train_lm).fit()\n",
    "lr.summary()"
   ]
  },
  {
   "cell_type": "code",
   "execution_count": null,
   "metadata": {
    "colab": {
     "base_uri": "https://localhost:8080/",
     "height": 786
    },
    "colab_type": "code",
    "id": "-sko4XxVc5Qh",
    "outputId": "59404422-5ba1-470d-d440-03606dc3fc47"
   },
   "outputs": [],
   "source": [
    "X = X.drop(columns = 'enginelocation')\n",
    "X_train_lm = sm.add_constant(X)\n",
    "lr = sm.OLS(y_train, X_train_lm).fit()\n",
    "lr.summary()"
   ]
  },
  {
   "cell_type": "code",
   "execution_count": null,
   "metadata": {
    "colab": {
     "base_uri": "https://localhost:8080/",
     "height": 766
    },
    "colab_type": "code",
    "id": "LttDk7qec5Ql",
    "outputId": "6c73bbd6-b7f3-4cc0-8234-7e461f31c1cd"
   },
   "outputs": [],
   "source": [
    "X = X.drop(columns = '2bbl')\n",
    "X_train_lm = sm.add_constant(X)\n",
    "lr = sm.OLS(y_train, X_train_lm).fit()\n",
    "lr.summary()"
   ]
  },
  {
   "cell_type": "code",
   "execution_count": null,
   "metadata": {
    "colab": {
     "base_uri": "https://localhost:8080/",
     "height": 746
    },
    "colab_type": "code",
    "id": "xhitMScFc5Qn",
    "outputId": "efa5bb81-2d2e-45ca-83f4-9dd7c918fca6"
   },
   "outputs": [],
   "source": [
    "X = X.drop(columns = 'plymouth')\n",
    "X_train_lm = sm.add_constant(X)\n",
    "lr = sm.OLS(y_train, X_train_lm).fit()\n",
    "lr.summary()"
   ]
  },
  {
   "cell_type": "code",
   "execution_count": null,
   "metadata": {
    "colab": {
     "base_uri": "https://localhost:8080/",
     "height": 726
    },
    "colab_type": "code",
    "id": "uzzD_v1Vc5Qs",
    "outputId": "a6981615-5edb-46ff-f248-78538e53a5d8"
   },
   "outputs": [],
   "source": [
    "X = X.drop(columns = 'dodge')\n",
    "X_train_lm = sm.add_constant(X)\n",
    "lr = sm.OLS(y_train, X_train_lm).fit()\n",
    "lr.summary()"
   ]
  },
  {
   "cell_type": "code",
   "execution_count": null,
   "metadata": {
    "colab": {
     "base_uri": "https://localhost:8080/",
     "height": 521
    },
    "colab_type": "code",
    "id": "P3QjlXfkc5Qu",
    "outputId": "00bc633e-5502-4f6a-82e4-82a53beff9dc"
   },
   "outputs": [],
   "source": [
    "vif = pd.DataFrame()\n",
    "vif['Columns'] = X.columns\n",
    "vif['VIF'] = [variance_inflation_factor(X.values, i) for i in range(X.shape[1])]\n",
    "vif['VIF'] = round(vif['VIF'], 2)\n",
    "vif = vif.sort_values(by = \"VIF\", ascending = False)\n",
    "vif"
   ]
  },
  {
   "cell_type": "code",
   "execution_count": null,
   "metadata": {
    "colab": {
     "base_uri": "https://localhost:8080/",
     "height": 706
    },
    "colab_type": "code",
    "id": "SRD9KUJCc5Qy",
    "outputId": "07621804-20fc-4a5b-e917-b04c0a929da5"
   },
   "outputs": [],
   "source": [
    "X = X.drop(columns = 'boreratio')\n",
    "X_train_lm = sm.add_constant(X)\n",
    "lr = sm.OLS(y_train, X_train_lm).fit()\n",
    "lr.summary()"
   ]
  },
  {
   "cell_type": "code",
   "execution_count": null,
   "metadata": {
    "colab": {
     "base_uri": "https://localhost:8080/",
     "height": 491
    },
    "colab_type": "code",
    "id": "FR-M9hKoc5Q1",
    "outputId": "d43f453b-be87-40d0-84b4-5f438bc142e1"
   },
   "outputs": [],
   "source": [
    "vif = pd.DataFrame()\n",
    "vif['Columns'] = X.columns\n",
    "vif['VIF'] = [variance_inflation_factor(X.values, i) for i in range(X.shape[1])]\n",
    "vif['VIF'] = round(vif['VIF'], 2)\n",
    "vif = vif.sort_values(by = \"VIF\", ascending = False)\n",
    "vif"
   ]
  },
  {
   "cell_type": "code",
   "execution_count": null,
   "metadata": {
    "colab": {
     "base_uri": "https://localhost:8080/",
     "height": 686
    },
    "colab_type": "code",
    "id": "K0rA_INvc5Q4",
    "outputId": "7e9afa30-17d6-482f-db4e-e3c8e2231adc"
   },
   "outputs": [],
   "source": [
    "X = X.drop(columns = 'carheight')\n",
    "X_train_lm = sm.add_constant(X)\n",
    "lr = sm.OLS(y_train, X_train_lm).fit()\n",
    "lr.summary()"
   ]
  },
  {
   "cell_type": "code",
   "execution_count": null,
   "metadata": {
    "colab": {
     "base_uri": "https://localhost:8080/",
     "height": 666
    },
    "colab_type": "code",
    "id": "3gGluB6Ic5Q8",
    "outputId": "e88b67e0-7abc-4f22-f9b8-5749a26b8a52"
   },
   "outputs": [],
   "source": [
    "X = X.drop(columns = 'peugeot')\n",
    "X_train_lm = sm.add_constant(X)\n",
    "lr = sm.OLS(y_train, X_train_lm).fit()\n",
    "lr.summary()"
   ]
  },
  {
   "cell_type": "code",
   "execution_count": null,
   "metadata": {
    "colab": {
     "base_uri": "https://localhost:8080/",
     "height": 432
    },
    "colab_type": "code",
    "id": "qHRDdQb2c5Q9",
    "outputId": "1983f12e-69a3-4dc5-9a07-ba2fab8fd47a"
   },
   "outputs": [],
   "source": [
    "vif = pd.DataFrame()\n",
    "vif['Columns'] = X.columns\n",
    "vif['VIF'] = [variance_inflation_factor(X.values, i) for i in range(X.shape[1])]\n",
    "vif['VIF'] = round(vif['VIF'], 2)\n",
    "vif = vif.sort_values(by = \"VIF\", ascending = False)\n",
    "vif"
   ]
  },
  {
   "cell_type": "code",
   "execution_count": null,
   "metadata": {
    "colab": {
     "base_uri": "https://localhost:8080/",
     "height": 646
    },
    "colab_type": "code",
    "id": "VW7nGUHSc5RB",
    "outputId": "aea29fda-4515-4bb6-af05-cdd6247fa0ef"
   },
   "outputs": [],
   "source": [
    "X = X.drop(columns = 'ohcf')\n",
    "X_train_lm = sm.add_constant(X)\n",
    "lr = sm.OLS(y_train, X_train_lm).fit()\n",
    "lr.summary()"
   ]
  },
  {
   "cell_type": "code",
   "execution_count": null,
   "metadata": {
    "colab": {
     "base_uri": "https://localhost:8080/",
     "height": 402
    },
    "colab_type": "code",
    "id": "4DuYIWGOc5RC",
    "outputId": "8b1dd625-98ff-49be-831f-fe5d72df6667"
   },
   "outputs": [],
   "source": [
    "vif = pd.DataFrame()\n",
    "vif['Columns'] = X.columns\n",
    "vif['VIF'] = [variance_inflation_factor(X.values, i) for i in range(X.shape[1])]\n",
    "vif['VIF'] = round(vif['VIF'], 2)\n",
    "vif = vif.sort_values(by = \"VIF\", ascending = False)\n",
    "vif"
   ]
  },
  {
   "cell_type": "code",
   "execution_count": null,
   "metadata": {
    "colab": {
     "base_uri": "https://localhost:8080/",
     "height": 626
    },
    "colab_type": "code",
    "id": "nUpMjd9ac5RH",
    "outputId": "4ee273f6-a134-4a5b-a7e7-aee701c281b6"
   },
   "outputs": [],
   "source": [
    "X = X.drop(columns = 'l')\n",
    "X_train_lm = sm.add_constant(X)\n",
    "lr = sm.OLS(y_train, X_train_lm).fit()\n",
    "lr.summary()"
   ]
  },
  {
   "cell_type": "code",
   "execution_count": null,
   "metadata": {
    "colab": {
     "base_uri": "https://localhost:8080/",
     "height": 606
    },
    "colab_type": "code",
    "id": "su2vYQBvvnJN",
    "outputId": "400a5cd9-230d-43a7-93fe-fdd90833a66a"
   },
   "outputs": [],
   "source": [
    "X = X.drop(columns = 'ohc')\n",
    "X_train_lm = sm.add_constant(X)\n",
    "lr = sm.OLS(y_train, X_train_lm).fit()\n",
    "lr.summary()"
   ]
  },
  {
   "cell_type": "code",
   "execution_count": null,
   "metadata": {
    "colab": {
     "base_uri": "https://localhost:8080/",
     "height": 343
    },
    "colab_type": "code",
    "id": "Ezhv0NPJxzwl",
    "outputId": "c9bf26d3-546f-42c0-9dd9-4ba76c3bec13"
   },
   "outputs": [],
   "source": [
    "vif = pd.DataFrame()\n",
    "vif['Columns'] = X.columns\n",
    "vif['VIF'] = [variance_inflation_factor(X.values, i) for i in range(X.shape[1])]\n",
    "vif['VIF'] = round(vif['VIF'], 2)\n",
    "vif = vif.sort_values(by = \"VIF\", ascending = False)\n",
    "vif"
   ]
  },
  {
   "cell_type": "code",
   "execution_count": null,
   "metadata": {
    "colab": {
     "base_uri": "https://localhost:8080/",
     "height": 67
    },
    "colab_type": "code",
    "id": "P3JJN7w5c5RO",
    "outputId": "120ca8c9-d6d3-4fe9-9b80-0285da61e189"
   },
   "outputs": [],
   "source": [
    "# Now we have come to that point in our model where we have p-values for all the variables <=0.05(exception of \"convertible\", with very small deviation)\n",
    "# and VIF of all the variables stricly <5 and hence the remaining features will be considered in the final model\n",
    "\n",
    "X.columns"
   ]
  },
  {
   "cell_type": "code",
   "execution_count": null,
   "metadata": {
    "colab": {},
    "colab_type": "code",
    "id": "_O57C0-owLHS"
   },
   "outputs": [],
   "source": [
    "# These are the variables that our final model will consider\n",
    "\n",
    "manual_sequential_elimination_var = X.columns"
   ]
  },
  {
   "cell_type": "code",
   "execution_count": null,
   "metadata": {
    "colab": {},
    "colab_type": "code",
    "id": "btqOYFpuc5RP"
   },
   "outputs": [],
   "source": [
    "# These are the predicted values on training data for residual evaluation\n",
    "\n",
    "y_train_price = lr.predict(X_train_lm)"
   ]
  },
  {
   "cell_type": "code",
   "execution_count": null,
   "metadata": {
    "colab": {
     "base_uri": "https://localhost:8080/",
     "height": 328
    },
    "colab_type": "code",
    "id": "VwMFpwWrc5RQ",
    "outputId": "d410e12a-9c44-48b2-fcc2-381946a1b3e2"
   },
   "outputs": [],
   "source": [
    "# Using this we can finally observe the dispersion of error across \"0\" and whether it fits in a Normal distrubution\n",
    "\n",
    "fig = plt.figure()\n",
    "sns.distplot((y_train - y_train_price), bins = 20)\n",
    "fig.suptitle('Error Terms', fontsize = 15)                 \n",
    "plt.xlabel('Errors', fontsize = 12)                        "
   ]
  },
  {
   "cell_type": "markdown",
   "metadata": {
    "colab_type": "text",
    "id": "mkFPdfh1BUtt"
   },
   "source": [
    "It is observed that the error terms do form a normal distrubution about the origin and fit distrubution well enough, and hence the model performs well without any biases towards training."
   ]
  },
  {
   "cell_type": "code",
   "execution_count": null,
   "metadata": {
    "colab": {},
    "colab_type": "code",
    "id": "aDNDHDT4c5RR"
   },
   "outputs": [],
   "source": [
    "# Lets first perform scaling on test data by the \"scaler\" previously defined for training data\n",
    "\n",
    "df_test[quantitative_var] = scaler.transform(df_test[quantitative_var])"
   ]
  },
  {
   "cell_type": "code",
   "execution_count": null,
   "metadata": {
    "colab": {
     "base_uri": "https://localhost:8080/",
     "height": 321
    },
    "colab_type": "code",
    "id": "E8K83Iavc5RR",
    "outputId": "f0ecca0a-e0e2-4983-c0e0-08781cad6009"
   },
   "outputs": [],
   "source": [
    "df_test.describe()"
   ]
  },
  {
   "cell_type": "code",
   "execution_count": null,
   "metadata": {
    "colab": {},
    "colab_type": "code",
    "id": "jPAifQEIc5RS"
   },
   "outputs": [],
   "source": [
    "y_test = df_test.pop('price')\n",
    "X_test = df_test"
   ]
  },
  {
   "cell_type": "code",
   "execution_count": null,
   "metadata": {
    "colab": {},
    "colab_type": "code",
    "id": "Gj02H-aHc5RT"
   },
   "outputs": [],
   "source": [
    "# Slicing testing data using the variables of the final model, adding constant and predicting the final values\n",
    "# of the regression\n",
    "\n",
    "X_test_sem = X_test[manual_sequential_elimination_var]\n",
    "X_test_sem = sm.add_constant(X_test_sem)\n",
    "y_pred_sem = lr.predict(X_test_sem)"
   ]
  },
  {
   "cell_type": "code",
   "execution_count": null,
   "metadata": {
    "colab": {
     "base_uri": "https://localhost:8080/",
     "height": 333
    },
    "colab_type": "code",
    "id": "IPDaq_4Jc5RV",
    "outputId": "68e08859-a671-4ad0-ffab-bd64cb6a9d72"
   },
   "outputs": [],
   "source": [
    "# These are the plots of the predicted value v/s the actual values of test_data\n",
    "\n",
    "fig = plt.figure()\n",
    "plt.scatter(y_test, y_pred_sem)\n",
    "fig.suptitle('y_test vs y_pred', fontsize = 20)               \n",
    "plt.xlabel('y_test', fontsize = 18)                          \n",
    "plt.ylabel('y_pred', fontsize = 16)  "
   ]
  },
  {
   "cell_type": "markdown",
   "metadata": {},
   "source": [
    "## R2 Score"
   ]
  },
  {
   "cell_type": "code",
   "execution_count": null,
   "metadata": {
    "colab": {
     "base_uri": "https://localhost:8080/",
     "height": 34
    },
    "colab_type": "code",
    "id": "O9Rb8WI5c5RW",
    "outputId": "a35f59d3-1de1-423a-d743-848e26c1d7ea"
   },
   "outputs": [],
   "source": [
    "\n",
    "\n",
    "from sklearn.metrics import r2_score\n",
    "r2_score(y_test, y_pred_sem)"
   ]
  },
  {
   "cell_type": "code",
   "execution_count": null,
   "metadata": {
    "colab": {},
    "colab_type": "code",
    "id": "WQ5izCafc5RX"
   },
   "outputs": [],
   "source": []
  },
  {
   "cell_type": "markdown",
   "metadata": {},
   "source": [
    "# Conclusion Remarks"
   ]
  },
  {
   "cell_type": "markdown",
   "metadata": {
    "colab_type": "text",
    "id": "LRxG_cbXD45A"
   },
   "source": [
    "Based on all this excercise, we can say that our model depends on:\n",
    "\n",
    "*   'enginesize' by a factor of '1.0521' \n",
    "*   'aspiration' by a factor of '0.1000'\n",
    "*   'peakrpm' by a factor of '0.099' \n",
    "*   'bmw' by a factor of '0.2574'\n",
    "*   'buick' by a factor of '0.1772'\n",
    "*   'mitsubishi' by a factor of '-0.0999' \n",
    "*   'porsche' by a factor of '0.2352'\n",
    "*   'rotor' by a factor of '0.2156' \n",
    "*   'saab' by a factor of '0.0803'\n",
    "*   'convertible' by a factor of '0.0681' \n",
    "*   a constant of '-0.1177' \n",
    "\n",
    "The signs are an indication of the effect the variables have on the prices and the coefficients signify the magnitude of impact on the same. We can undoubtedly say that the brand-name of the companies do impact the price of the car and most probably even the quality of the car.\n",
    "\n",
    "Also based on the final R-squared(= 0.907, adj R-sq = 0.900) of the training data and the final R-squared(= 0.894) of the testing data we can say that the model is not overfitted on the training data as the variation between them is negligible.\n",
    "\n"
   ]
  },
  {
   "cell_type": "markdown",
   "metadata": {},
   "source": [
    "## Final Equation"
   ]
  },
  {
   "cell_type": "markdown",
   "metadata": {},
   "source": [
    "The equation of the hyperplane formed by our model is:\n",
    "\n",
    "PRICE = (*ENGINESIZE*)1.0521 +(*ASPIRATION*)0.1 +(*PEAKRPM*)0.099 +(*BMW*)0.2574 +(*BUICK*)0.1772 -(*MITSUBISHI*)0.0999 + (*PORSCHE*)0.2352 +(*ROTOR*)0.2156 +(*SAAB*)0.0803 +(*CONVERTIBLE*)0.0681 - 0.1177"
   ]
  },
  {
   "cell_type": "code",
   "execution_count": null,
   "metadata": {},
   "outputs": [],
   "source": []
  }
 ],
 "metadata": {
  "colab": {
   "collapsed_sections": [],
   "name": "linear_reg_assignment.ipynb",
   "provenance": []
  },
  "kernelspec": {
   "display_name": "Python 3",
   "language": "python",
   "name": "python3"
  },
  "language_info": {
   "codemirror_mode": {
    "name": "ipython",
    "version": 3
   },
   "file_extension": ".py",
   "mimetype": "text/x-python",
   "name": "python",
   "nbconvert_exporter": "python",
   "pygments_lexer": "ipython3",
   "version": "3.7.6"
  }
 },
 "nbformat": 4,
 "nbformat_minor": 1
}
